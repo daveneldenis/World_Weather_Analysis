{
 "cells": [
  {
   "cell_type": "code",
   "execution_count": 41,
   "metadata": {},
   "outputs": [],
   "source": [
    "import pandas as pd\n",
    "import gmaps\n",
    "import gmaps.datasets\n",
    "import requests\n",
    "# Import the API key.\n",
    "from config import g_key\n",
    "# Configure gmaps to use your Google API key.\n",
    "gmaps.configure(api_key=g_key)"
   ]
  },
  {
   "cell_type": "code",
   "execution_count": 8,
   "metadata": {},
   "outputs": [],
   "source": [
    "WeatherPy_vacation = pd.read_csv(\"weather_data/vacation_search.csv\")"
   ]
  },
  {
   "cell_type": "code",
   "execution_count": 9,
   "metadata": {},
   "outputs": [
    {
     "data": {
      "text/html": [
       "<div>\n",
       "<style scoped>\n",
       "    .dataframe tbody tr th:only-of-type {\n",
       "        vertical-align: middle;\n",
       "    }\n",
       "\n",
       "    .dataframe tbody tr th {\n",
       "        vertical-align: top;\n",
       "    }\n",
       "\n",
       "    .dataframe thead th {\n",
       "        text-align: right;\n",
       "    }\n",
       "</style>\n",
       "<table border=\"1\" class=\"dataframe\">\n",
       "  <thead>\n",
       "    <tr style=\"text-align: right;\">\n",
       "      <th></th>\n",
       "      <th>City</th>\n",
       "      <th>Country</th>\n",
       "      <th>Max Temp</th>\n",
       "      <th>Lat</th>\n",
       "      <th>Lng</th>\n",
       "      <th>Hotel Name</th>\n",
       "    </tr>\n",
       "  </thead>\n",
       "  <tbody>\n",
       "    <tr>\n",
       "      <th>0</th>\n",
       "      <td>Along</td>\n",
       "      <td>IN</td>\n",
       "      <td>75.22</td>\n",
       "      <td>28.17</td>\n",
       "      <td>94.77</td>\n",
       "      <td>Hotel West</td>\n",
       "    </tr>\n",
       "    <tr>\n",
       "      <th>1</th>\n",
       "      <td>Atuona</td>\n",
       "      <td>PF</td>\n",
       "      <td>79.75</td>\n",
       "      <td>-9.80</td>\n",
       "      <td>-139.03</td>\n",
       "      <td>Villa Enata</td>\n",
       "    </tr>\n",
       "    <tr>\n",
       "      <th>2</th>\n",
       "      <td>Albany</td>\n",
       "      <td>US</td>\n",
       "      <td>82.99</td>\n",
       "      <td>42.60</td>\n",
       "      <td>-73.97</td>\n",
       "      <td>NaN</td>\n",
       "    </tr>\n",
       "    <tr>\n",
       "      <th>3</th>\n",
       "      <td>Bengkulu</td>\n",
       "      <td>ID</td>\n",
       "      <td>76.96</td>\n",
       "      <td>-3.80</td>\n",
       "      <td>102.27</td>\n",
       "      <td>Grage Hotel Bengkulu</td>\n",
       "    </tr>\n",
       "    <tr>\n",
       "      <th>4</th>\n",
       "      <td>Saquena</td>\n",
       "      <td>PE</td>\n",
       "      <td>81.77</td>\n",
       "      <td>-4.67</td>\n",
       "      <td>-73.52</td>\n",
       "      <td>NaN</td>\n",
       "    </tr>\n",
       "    <tr>\n",
       "      <th>5</th>\n",
       "      <td>Lorengau</td>\n",
       "      <td>PG</td>\n",
       "      <td>82.94</td>\n",
       "      <td>-2.02</td>\n",
       "      <td>147.27</td>\n",
       "      <td>Lorengau Harbourside Hotel</td>\n",
       "    </tr>\n",
       "    <tr>\n",
       "      <th>6</th>\n",
       "      <td>Kontagora</td>\n",
       "      <td>NG</td>\n",
       "      <td>81.32</td>\n",
       "      <td>10.40</td>\n",
       "      <td>5.47</td>\n",
       "      <td>City Gate Inn</td>\n",
       "    </tr>\n",
       "    <tr>\n",
       "      <th>7</th>\n",
       "      <td>Fukue</td>\n",
       "      <td>JP</td>\n",
       "      <td>75.94</td>\n",
       "      <td>32.69</td>\n",
       "      <td>128.84</td>\n",
       "      <td>Goto Guesthouse Utojuku &amp; SA Car Rental</td>\n",
       "    </tr>\n",
       "    <tr>\n",
       "      <th>8</th>\n",
       "      <td>Kalmunai</td>\n",
       "      <td>LK</td>\n",
       "      <td>80.87</td>\n",
       "      <td>7.42</td>\n",
       "      <td>81.82</td>\n",
       "      <td>VS Villa</td>\n",
       "    </tr>\n",
       "    <tr>\n",
       "      <th>9</th>\n",
       "      <td>Batouri</td>\n",
       "      <td>CM</td>\n",
       "      <td>71.78</td>\n",
       "      <td>4.43</td>\n",
       "      <td>14.37</td>\n",
       "      <td>Hotel Hollywood</td>\n",
       "    </tr>\n",
       "  </tbody>\n",
       "</table>\n",
       "</div>"
      ],
      "text/plain": [
       "        City Country  Max Temp    Lat     Lng  \\\n",
       "0      Along      IN     75.22  28.17   94.77   \n",
       "1     Atuona      PF     79.75  -9.80 -139.03   \n",
       "2     Albany      US     82.99  42.60  -73.97   \n",
       "3   Bengkulu      ID     76.96  -3.80  102.27   \n",
       "4    Saquena      PE     81.77  -4.67  -73.52   \n",
       "5   Lorengau      PG     82.94  -2.02  147.27   \n",
       "6  Kontagora      NG     81.32  10.40    5.47   \n",
       "7      Fukue      JP     75.94  32.69  128.84   \n",
       "8   Kalmunai      LK     80.87   7.42   81.82   \n",
       "9    Batouri      CM     71.78   4.43   14.37   \n",
       "\n",
       "                                Hotel Name  \n",
       "0                               Hotel West  \n",
       "1                              Villa Enata  \n",
       "2                                      NaN  \n",
       "3                     Grage Hotel Bengkulu  \n",
       "4                                      NaN  \n",
       "5               Lorengau Harbourside Hotel  \n",
       "6                            City Gate Inn  \n",
       "7  Goto Guesthouse Utojuku & SA Car Rental  \n",
       "8                                 VS Villa  \n",
       "9                          Hotel Hollywood  "
      ]
     },
     "execution_count": 9,
     "metadata": {},
     "output_type": "execute_result"
    }
   ],
   "source": [
    "WeatherPy_vacation.head(10)"
   ]
  },
  {
   "cell_type": "code",
   "execution_count": 20,
   "metadata": {},
   "outputs": [],
   "source": [
    "hotel1 = WeatherPy_vacation.loc[(WeatherPy_vacation[\"City\"] == \"Epe\")].head(1)"
   ]
  },
  {
   "cell_type": "code",
   "execution_count": 21,
   "metadata": {},
   "outputs": [],
   "source": [
    "hotel2 = WeatherPy_vacation.loc[(WeatherPy_vacation[\"City\"] == \"Lokoja\")].head(1)"
   ]
  },
  {
   "cell_type": "code",
   "execution_count": 22,
   "metadata": {},
   "outputs": [],
   "source": [
    "hotel3 = WeatherPy_vacation.loc[(WeatherPy_vacation[\"City\"] == \"Kontagora\")].head(1)"
   ]
  },
  {
   "cell_type": "code",
   "execution_count": 23,
   "metadata": {},
   "outputs": [],
   "source": [
    "hotel4 = WeatherPy_vacation.loc[(WeatherPy_vacation[\"City\"] == \"Funtua\")].head(1)"
   ]
  },
  {
   "cell_type": "code",
   "execution_count": 26,
   "metadata": {},
   "outputs": [],
   "source": [
    "vacation_itinerary = hotel1.append(hotel2).append(hotel3).append(hotel4) "
   ]
  },
  {
   "cell_type": "code",
   "execution_count": 38,
   "metadata": {},
   "outputs": [
    {
     "data": {
      "text/html": [
       "<div>\n",
       "<style scoped>\n",
       "    .dataframe tbody tr th:only-of-type {\n",
       "        vertical-align: middle;\n",
       "    }\n",
       "\n",
       "    .dataframe tbody tr th {\n",
       "        vertical-align: top;\n",
       "    }\n",
       "\n",
       "    .dataframe thead th {\n",
       "        text-align: right;\n",
       "    }\n",
       "</style>\n",
       "<table border=\"1\" class=\"dataframe\">\n",
       "  <thead>\n",
       "    <tr style=\"text-align: right;\">\n",
       "      <th></th>\n",
       "      <th>City</th>\n",
       "      <th>Country</th>\n",
       "      <th>Max Temp</th>\n",
       "      <th>Lat</th>\n",
       "      <th>Lng</th>\n",
       "      <th>Hotel Name</th>\n",
       "    </tr>\n",
       "  </thead>\n",
       "  <tbody>\n",
       "    <tr>\n",
       "      <th>43</th>\n",
       "      <td>Epe</td>\n",
       "      <td>NG</td>\n",
       "      <td>78.10</td>\n",
       "      <td>6.58</td>\n",
       "      <td>3.98</td>\n",
       "      <td>MAGVILLE HOTEL</td>\n",
       "    </tr>\n",
       "    <tr>\n",
       "      <th>23</th>\n",
       "      <td>Lokoja</td>\n",
       "      <td>NG</td>\n",
       "      <td>79.16</td>\n",
       "      <td>7.80</td>\n",
       "      <td>6.74</td>\n",
       "      <td>Hotel Charvid</td>\n",
       "    </tr>\n",
       "    <tr>\n",
       "      <th>6</th>\n",
       "      <td>Kontagora</td>\n",
       "      <td>NG</td>\n",
       "      <td>81.32</td>\n",
       "      <td>10.40</td>\n",
       "      <td>5.47</td>\n",
       "      <td>City Gate Inn</td>\n",
       "    </tr>\n",
       "    <tr>\n",
       "      <th>56</th>\n",
       "      <td>Funtua</td>\n",
       "      <td>NG</td>\n",
       "      <td>78.21</td>\n",
       "      <td>11.52</td>\n",
       "      <td>7.31</td>\n",
       "      <td>Elbintu Restaurant And Motel</td>\n",
       "    </tr>\n",
       "  </tbody>\n",
       "</table>\n",
       "</div>"
      ],
      "text/plain": [
       "         City Country  Max Temp    Lat   Lng                    Hotel Name\n",
       "43        Epe      NG     78.10   6.58  3.98                MAGVILLE HOTEL\n",
       "23     Lokoja      NG     79.16   7.80  6.74                 Hotel Charvid\n",
       "6   Kontagora      NG     81.32  10.40  5.47                 City Gate Inn\n",
       "56     Funtua      NG     78.21  11.52  7.31  Elbintu Restaurant And Motel"
      ]
     },
     "execution_count": 38,
     "metadata": {},
     "output_type": "execute_result"
    }
   ],
   "source": [
    "vacation_itinerary"
   ]
  },
  {
   "cell_type": "code",
   "execution_count": 39,
   "metadata": {},
   "outputs": [],
   "source": [
    "start = hotel1[\"Lat\"].values[0], hotel1[\"Lng\"].values[0]"
   ]
  },
  {
   "cell_type": "code",
   "execution_count": 40,
   "metadata": {},
   "outputs": [],
   "source": [
    "stop2 = hotel2[\"Lat\"].values[0], hotel2[\"Lng\"].values[0]\n",
    "stop3 = hotel3[\"Lat\"].values[0], hotel3[\"Lng\"].values[0]\n",
    "end = hotel4[\"Lat\"].values[0], hotel4[\"Lng\"].values[0]"
   ]
  },
  {
   "cell_type": "code",
   "execution_count": 47,
   "metadata": {},
   "outputs": [
    {
     "data": {
      "application/vnd.jupyter.widget-view+json": {
       "model_id": "07e555bd14c94b61b50de6d1764ebb91",
       "version_major": 2,
       "version_minor": 0
      },
      "text/plain": [
       "Figure(layout=FigureLayout(height='420px'))"
      ]
     },
     "metadata": {},
     "output_type": "display_data"
    }
   ],
   "source": [
    "fig = gmaps.figure()\n",
    "vacation = gmaps.directions_layer(\n",
    "        start, end, waypoints=[stop2, stop3])\n",
    "fig.add_layer(vacation)\n",
    "# maps.savefig(\"weather_data/Fig5.png\")\n",
    "fig\n"
   ]
  },
  {
   "cell_type": "code",
   "execution_count": null,
   "metadata": {},
   "outputs": [],
   "source": []
  }
 ],
 "metadata": {
  "kernelspec": {
   "display_name": "PythonData",
   "language": "python",
   "name": "pythondata"
  },
  "language_info": {
   "codemirror_mode": {
    "name": "ipython",
    "version": 3
   },
   "file_extension": ".py",
   "mimetype": "text/x-python",
   "name": "python",
   "nbconvert_exporter": "python",
   "pygments_lexer": "ipython3",
   "version": "3.7.6"
  }
 },
 "nbformat": 4,
 "nbformat_minor": 4
}
